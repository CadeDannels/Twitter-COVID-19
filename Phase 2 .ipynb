{
 "cells": [
  {
   "cell_type": "markdown",
   "metadata": {},
   "source": [
    "# Phase 2"
   ]
  },
  {
   "cell_type": "markdown",
   "metadata": {},
   "source": [
    "## Motivation"
   ]
  },
  {
   "cell_type": "markdown",
   "metadata": {},
   "source": [
    "My motivation for this project was the general understanding of how people's attention and worry concerning COVID has faded over time, despite the massive increase in cases. Upon thinking back to March it fascinates me how much people talked about COVID and how serious everyone took it, despite extremely low case numbers relative to today. Today it seems like many people have started to not worry about COVID or simply ignore it. I wanted to test if this was also true for our Boulder County and CU Boulder leaders. I thought this was interesting because it is important for our community leaders to set a good example for our city and to respond to massive increases in COVID cases with stronger pushes for safety guidelines. \n",
    "\n",
    "This led me to my research question: Have our Boulder County and CU leaders tweeted less about COVID as time has gone on and cases have increased?\n",
    "\n",
    "To do this, as discussed and carried out in Phase 1, I gathered data from 15 different Boulder related Twitter accounts and determined how often they mentioned COVID and other related terms in their tweets. We will pick up in this notebook where we left off in Phase 1, focusing more on analysis and testing our hypothesis which is stated below."
   ]
  },
  {
   "cell_type": "markdown",
   "metadata": {},
   "source": [
    "## **Hypothesis**\n",
    "\n",
    "My hypothesis is that there is a negative correlation between cases of COVID-19 and how often the virus is mentioned on twitter from our community leading people and organizations."
   ]
  },
  {
   "cell_type": "markdown",
   "metadata": {},
   "source": [
    "## Data Collection & Cleaning"
   ]
  },
  {
   "cell_type": "code",
   "execution_count": 1,
   "metadata": {},
   "outputs": [],
   "source": [
    "import requests\n",
    "import json\n",
    "\n",
    "import pandas as pd\n",
    "import numpy as np\n",
    "\n",
    "pd.options.display.max_columns = 100\n",
    "\n",
    "%matplotlib inline\n",
    "import matplotlib.pyplot as plt\n",
    "import seaborn as sb\n",
    "\n",
    "import datetime as datetime\n",
    "import csv"
   ]
  },
  {
   "cell_type": "markdown",
   "metadata": {},
   "source": [
    "Get COVID Data"
   ]
  },
  {
   "cell_type": "code",
   "execution_count": 2,
   "metadata": {},
   "outputs": [],
   "source": [
    "req = requests.request('GET', 'https://opendata.arcgis.com/datasets/52fb11a8a07f49c1b28335a9de9ba99f_0.geojson')\n",
    "response_json = json.loads(req.text)\n"
   ]
  },
  {
   "cell_type": "code",
   "execution_count": 3,
   "metadata": {},
   "outputs": [],
   "source": [
    "list_of_dates = []\n",
    "list_of_cases = []\n",
    "for data in response_json[\"features\"]:\n",
    "    if data[\"properties\"][\"COUNTY\"] == \"BOULDER\":\n",
    "        if data[\"properties\"][\"Metric\"] == \"Cases\":\n",
    "            list_of_dates.append(data[\"properties\"][\"Date\"])\n",
    "            list_of_cases.append(data[\"properties\"][\"Value\"])"
   ]
  },
  {
   "cell_type": "code",
   "execution_count": 4,
   "metadata": {},
   "outputs": [],
   "source": [
    "boco_cases_df = pd.DataFrame({\"Date\": list_of_dates,\n",
    "                             \"Cases\": list_of_cases})"
   ]
  },
  {
   "cell_type": "code",
   "execution_count": 5,
   "metadata": {},
   "outputs": [],
   "source": [
    "boco_cases_df.drop(boco_cases_df.tail(6).index,inplace=True) #drop 6 days of december"
   ]
  },
  {
   "cell_type": "code",
   "execution_count": 6,
   "metadata": {},
   "outputs": [
    {
     "data": {
      "text/html": [
       "<div>\n",
       "<style scoped>\n",
       "    .dataframe tbody tr th:only-of-type {\n",
       "        vertical-align: middle;\n",
       "    }\n",
       "\n",
       "    .dataframe tbody tr th {\n",
       "        vertical-align: top;\n",
       "    }\n",
       "\n",
       "    .dataframe thead th {\n",
       "        text-align: right;\n",
       "    }\n",
       "</style>\n",
       "<table border=\"1\" class=\"dataframe\">\n",
       "  <thead>\n",
       "    <tr style=\"text-align: right;\">\n",
       "      <th></th>\n",
       "      <th>Date</th>\n",
       "      <th>Cases</th>\n",
       "    </tr>\n",
       "  </thead>\n",
       "  <tbody>\n",
       "    <tr>\n",
       "      <th>0</th>\n",
       "      <td>2020-03-25</td>\n",
       "      <td>51</td>\n",
       "    </tr>\n",
       "    <tr>\n",
       "      <th>1</th>\n",
       "      <td>2020-03-23</td>\n",
       "      <td>39</td>\n",
       "    </tr>\n",
       "    <tr>\n",
       "      <th>2</th>\n",
       "      <td>2020-03-21</td>\n",
       "      <td>30</td>\n",
       "    </tr>\n",
       "    <tr>\n",
       "      <th>3</th>\n",
       "      <td>2020-03-24</td>\n",
       "      <td>49</td>\n",
       "    </tr>\n",
       "    <tr>\n",
       "      <th>4</th>\n",
       "      <td>2020-03-20</td>\n",
       "      <td>16</td>\n",
       "    </tr>\n",
       "  </tbody>\n",
       "</table>\n",
       "</div>"
      ],
      "text/plain": [
       "        Date  Cases\n",
       "0 2020-03-25     51\n",
       "1 2020-03-23     39\n",
       "2 2020-03-21     30\n",
       "3 2020-03-24     49\n",
       "4 2020-03-20     16"
      ]
     },
     "execution_count": 6,
     "metadata": {},
     "output_type": "execute_result"
    }
   ],
   "source": [
    "boco_cases_df[\"Date\"] = pd.to_datetime(boco_cases_df[\"Date\"])\n",
    "boco_cases_df.head()"
   ]
  },
  {
   "cell_type": "markdown",
   "metadata": {},
   "source": [
    "Load Twitter Data from Phase 1"
   ]
  },
  {
   "cell_type": "code",
   "execution_count": 7,
   "metadata": {},
   "outputs": [
    {
     "data": {
      "text/html": [
       "<div>\n",
       "<style scoped>\n",
       "    .dataframe tbody tr th:only-of-type {\n",
       "        vertical-align: middle;\n",
       "    }\n",
       "\n",
       "    .dataframe tbody tr th {\n",
       "        vertical-align: top;\n",
       "    }\n",
       "\n",
       "    .dataframe thead th {\n",
       "        text-align: right;\n",
       "    }\n",
       "</style>\n",
       "<table border=\"1\" class=\"dataframe\">\n",
       "  <thead>\n",
       "    <tr style=\"text-align: right;\">\n",
       "      <th></th>\n",
       "      <th>User</th>\n",
       "      <th>Month</th>\n",
       "      <th>Number of Covid Mentions</th>\n",
       "      <th>Total Tweets</th>\n",
       "      <th>Mentions Per Tweet</th>\n",
       "    </tr>\n",
       "  </thead>\n",
       "  <tbody>\n",
       "    <tr>\n",
       "      <th>0</th>\n",
       "      <td>CUBoulder</td>\n",
       "      <td>1</td>\n",
       "      <td>4</td>\n",
       "      <td>191</td>\n",
       "      <td>0.020942</td>\n",
       "    </tr>\n",
       "    <tr>\n",
       "      <th>1</th>\n",
       "      <td>CUBoulder</td>\n",
       "      <td>2</td>\n",
       "      <td>1</td>\n",
       "      <td>238</td>\n",
       "      <td>0.004202</td>\n",
       "    </tr>\n",
       "    <tr>\n",
       "      <th>2</th>\n",
       "      <td>CUBoulder</td>\n",
       "      <td>3</td>\n",
       "      <td>50</td>\n",
       "      <td>351</td>\n",
       "      <td>0.142450</td>\n",
       "    </tr>\n",
       "    <tr>\n",
       "      <th>3</th>\n",
       "      <td>CUBoulder</td>\n",
       "      <td>4</td>\n",
       "      <td>40</td>\n",
       "      <td>317</td>\n",
       "      <td>0.126183</td>\n",
       "    </tr>\n",
       "    <tr>\n",
       "      <th>4</th>\n",
       "      <td>CUBoulder</td>\n",
       "      <td>5</td>\n",
       "      <td>24</td>\n",
       "      <td>323</td>\n",
       "      <td>0.074303</td>\n",
       "    </tr>\n",
       "  </tbody>\n",
       "</table>\n",
       "</div>"
      ],
      "text/plain": [
       "        User  Month  Number of Covid Mentions  Total Tweets  \\\n",
       "0  CUBoulder      1                         4           191   \n",
       "1  CUBoulder      2                         1           238   \n",
       "2  CUBoulder      3                        50           351   \n",
       "3  CUBoulder      4                        40           317   \n",
       "4  CUBoulder      5                        24           323   \n",
       "\n",
       "   Mentions Per Tweet  \n",
       "0            0.020942  \n",
       "1            0.004202  \n",
       "2            0.142450  \n",
       "3            0.126183  \n",
       "4            0.074303  "
      ]
     },
     "execution_count": 7,
     "metadata": {},
     "output_type": "execute_result"
    }
   ],
   "source": [
    "load_new_boulder_tweets = pd.read_csv(\"complete_boulder_tweets.csv\")\n",
    "load_new_boulder_tweets.head()"
   ]
  },
  {
   "cell_type": "markdown",
   "metadata": {},
   "source": [
    "Merge Data"
   ]
  },
  {
   "cell_type": "code",
   "execution_count": 8,
   "metadata": {},
   "outputs": [],
   "source": [
    "boco_gb = boco_cases_df.copy()\n",
    "boco_gb[\"Month\"] = boco_gb[\"Date\"].apply(lambda x: x.month)\n",
    "boco_gb_mean = boco_gb.groupby(\"Month\").agg({\"Cases\":\"mean\"})\n",
    "boco_gb_total = boco_gb.groupby(\"Month\").agg({\"Cases\":\"sum\"})\n",
    "\n",
    "boco_gb_mean.reset_index(inplace=True)\n",
    "boco_gb_total.reset_index(inplace=True)"
   ]
  },
  {
   "cell_type": "code",
   "execution_count": 9,
   "metadata": {},
   "outputs": [],
   "source": [
    "jan = pd.DataFrame({\"Month\":datetime.datetime(1,1,20).month,\"Cases\":0},index =[0])\n",
    "feb = pd.DataFrame({\"Month\":datetime.datetime(2,2,20).month,\"Cases\":0},index =[1])\n",
    "\n",
    "boco_gb_mean = pd.concat([jan,feb,boco_gb_mean]).reset_index(drop=True)\n",
    "boco_gb_total = pd.concat([jan,feb,boco_gb_total]).reset_index(drop=True)\n",
    "\n",
    "boco_gb_covid = boco_gb_mean.copy()\n",
    "\n",
    "boco_gb_covid[\"Total Cases\"] = boco_gb_total[\"Cases\"]\n",
    "boco_gb_covid.rename(columns={\"Cases\":\"Average Cases\"},inplace=True)"
   ]
  },
  {
   "cell_type": "code",
   "execution_count": 10,
   "metadata": {},
   "outputs": [],
   "source": [
    "merged_df = load_new_boulder_tweets.merge(boco_gb_covid, on=\"Month\")\n",
    "merged_df[\"Average Cases\"] = merged_df[\"Average Cases\"].shift(1)\n",
    "merged_df[\"Total Cases\"] = merged_df[\"Total Cases\"].shift(1)\n",
    "merged_df.fillna(0,inplace=True)\n",
    "merged_df.drop(columns=[\"Month\"],inplace=True)"
   ]
  },
  {
   "cell_type": "markdown",
   "metadata": {},
   "source": [
    "Add a Month column"
   ]
  },
  {
   "cell_type": "code",
   "execution_count": 11,
   "metadata": {},
   "outputs": [],
   "source": [
    "months = []\n",
    "count = 1\n",
    "for i in range(0,11):\n",
    "    for b in range(0,15):\n",
    "        months.append(count)\n",
    "    count+=1\n",
    "len(months)\n",
    "\n",
    "merged_df[\"Month\"] = [item for item in months]"
   ]
  },
  {
   "cell_type": "code",
   "execution_count": 12,
   "metadata": {},
   "outputs": [],
   "source": [
    "merged_df[\"Total Cases\"] = merged_df[\"Total Cases\"].shift(-1)\n",
    "merged_df.loc[164,\"Total Cases\"] = merged_df.loc[163,\"Total Cases\"]\n",
    "merged_df[\"Average Cases\"] = merged_df[\"Average Cases\"].shift(-1)\n",
    "merged_df.loc[164,\"Average Cases\"] = merged_df.loc[163,\"Average Cases\"]"
   ]
  },
  {
   "cell_type": "code",
   "execution_count": 13,
   "metadata": {},
   "outputs": [
    {
     "data": {
      "text/html": [
       "<div>\n",
       "<style scoped>\n",
       "    .dataframe tbody tr th:only-of-type {\n",
       "        vertical-align: middle;\n",
       "    }\n",
       "\n",
       "    .dataframe tbody tr th {\n",
       "        vertical-align: top;\n",
       "    }\n",
       "\n",
       "    .dataframe thead th {\n",
       "        text-align: right;\n",
       "    }\n",
       "</style>\n",
       "<table border=\"1\" class=\"dataframe\">\n",
       "  <thead>\n",
       "    <tr style=\"text-align: right;\">\n",
       "      <th></th>\n",
       "      <th>User</th>\n",
       "      <th>Number of Covid Mentions</th>\n",
       "      <th>Total Tweets</th>\n",
       "      <th>Mentions Per Tweet</th>\n",
       "      <th>Average Cases</th>\n",
       "      <th>Total Cases</th>\n",
       "      <th>Month</th>\n",
       "    </tr>\n",
       "  </thead>\n",
       "  <tbody>\n",
       "    <tr>\n",
       "      <th>0</th>\n",
       "      <td>CUBoulder</td>\n",
       "      <td>4</td>\n",
       "      <td>191</td>\n",
       "      <td>0.020942</td>\n",
       "      <td>0.0</td>\n",
       "      <td>0.0</td>\n",
       "      <td>1</td>\n",
       "    </tr>\n",
       "    <tr>\n",
       "      <th>1</th>\n",
       "      <td>CUMarkKennedy</td>\n",
       "      <td>4</td>\n",
       "      <td>41</td>\n",
       "      <td>0.097561</td>\n",
       "      <td>0.0</td>\n",
       "      <td>0.0</td>\n",
       "      <td>1</td>\n",
       "    </tr>\n",
       "    <tr>\n",
       "      <th>2</th>\n",
       "      <td>CUBoulderPolice</td>\n",
       "      <td>2</td>\n",
       "      <td>40</td>\n",
       "      <td>0.050000</td>\n",
       "      <td>0.0</td>\n",
       "      <td>0.0</td>\n",
       "      <td>1</td>\n",
       "    </tr>\n",
       "    <tr>\n",
       "      <th>3</th>\n",
       "      <td>CUBuffs</td>\n",
       "      <td>10</td>\n",
       "      <td>120</td>\n",
       "      <td>0.083333</td>\n",
       "      <td>0.0</td>\n",
       "      <td>0.0</td>\n",
       "      <td>1</td>\n",
       "    </tr>\n",
       "    <tr>\n",
       "      <th>4</th>\n",
       "      <td>CUBoulderLife</td>\n",
       "      <td>1</td>\n",
       "      <td>48</td>\n",
       "      <td>0.020833</td>\n",
       "      <td>0.0</td>\n",
       "      <td>0.0</td>\n",
       "      <td>1</td>\n",
       "    </tr>\n",
       "  </tbody>\n",
       "</table>\n",
       "</div>"
      ],
      "text/plain": [
       "              User  Number of Covid Mentions  Total Tweets  \\\n",
       "0        CUBoulder                         4           191   \n",
       "1    CUMarkKennedy                         4            41   \n",
       "2  CUBoulderPolice                         2            40   \n",
       "3          CUBuffs                        10           120   \n",
       "4    CUBoulderLife                         1            48   \n",
       "\n",
       "   Mentions Per Tweet  Average Cases  Total Cases  Month  \n",
       "0            0.020942            0.0          0.0      1  \n",
       "1            0.097561            0.0          0.0      1  \n",
       "2            0.050000            0.0          0.0      1  \n",
       "3            0.083333            0.0          0.0      1  \n",
       "4            0.020833            0.0          0.0      1  "
      ]
     },
     "execution_count": 13,
     "metadata": {},
     "output_type": "execute_result"
    }
   ],
   "source": [
    "merged_df.head()"
   ]
  },
  {
   "cell_type": "code",
   "execution_count": 91,
   "metadata": {},
   "outputs": [
    {
     "data": {
      "text/html": [
       "<div>\n",
       "<style scoped>\n",
       "    .dataframe tbody tr th:only-of-type {\n",
       "        vertical-align: middle;\n",
       "    }\n",
       "\n",
       "    .dataframe tbody tr th {\n",
       "        vertical-align: top;\n",
       "    }\n",
       "\n",
       "    .dataframe thead th {\n",
       "        text-align: right;\n",
       "    }\n",
       "</style>\n",
       "<table border=\"1\" class=\"dataframe\">\n",
       "  <thead>\n",
       "    <tr style=\"text-align: right;\">\n",
       "      <th></th>\n",
       "      <th>User</th>\n",
       "      <th>Number of Covid Mentions</th>\n",
       "      <th>Total Tweets</th>\n",
       "      <th>Mentions Per Tweet</th>\n",
       "      <th>Average Cases</th>\n",
       "      <th>Total Cases</th>\n",
       "      <th>Month</th>\n",
       "    </tr>\n",
       "  </thead>\n",
       "  <tbody>\n",
       "    <tr>\n",
       "      <th>160</th>\n",
       "      <td>BoulderChamber</td>\n",
       "      <td>34</td>\n",
       "      <td>128</td>\n",
       "      <td>0.265625</td>\n",
       "      <td>8472.7</td>\n",
       "      <td>254181.0</td>\n",
       "      <td>11</td>\n",
       "    </tr>\n",
       "    <tr>\n",
       "      <th>161</th>\n",
       "      <td>downtownboulder</td>\n",
       "      <td>1</td>\n",
       "      <td>34</td>\n",
       "      <td>0.029412</td>\n",
       "      <td>8472.7</td>\n",
       "      <td>254181.0</td>\n",
       "      <td>11</td>\n",
       "    </tr>\n",
       "    <tr>\n",
       "      <th>162</th>\n",
       "      <td>boulderparksrec</td>\n",
       "      <td>5</td>\n",
       "      <td>73</td>\n",
       "      <td>0.068493</td>\n",
       "      <td>8472.7</td>\n",
       "      <td>254181.0</td>\n",
       "      <td>11</td>\n",
       "    </tr>\n",
       "    <tr>\n",
       "      <th>163</th>\n",
       "      <td>ColoradoStateU</td>\n",
       "      <td>47</td>\n",
       "      <td>188</td>\n",
       "      <td>0.250000</td>\n",
       "      <td>8472.7</td>\n",
       "      <td>254181.0</td>\n",
       "      <td>11</td>\n",
       "    </tr>\n",
       "    <tr>\n",
       "      <th>164</th>\n",
       "      <td>GovofCO</td>\n",
       "      <td>15</td>\n",
       "      <td>21</td>\n",
       "      <td>0.714286</td>\n",
       "      <td>8472.7</td>\n",
       "      <td>254181.0</td>\n",
       "      <td>11</td>\n",
       "    </tr>\n",
       "  </tbody>\n",
       "</table>\n",
       "</div>"
      ],
      "text/plain": [
       "                User  Number of Covid Mentions  Total Tweets  \\\n",
       "160   BoulderChamber                        34           128   \n",
       "161  downtownboulder                         1            34   \n",
       "162  boulderparksrec                         5            73   \n",
       "163   ColoradoStateU                        47           188   \n",
       "164          GovofCO                        15            21   \n",
       "\n",
       "     Mentions Per Tweet  Average Cases  Total Cases  Month  \n",
       "160            0.265625         8472.7     254181.0     11  \n",
       "161            0.029412         8472.7     254181.0     11  \n",
       "162            0.068493         8472.7     254181.0     11  \n",
       "163            0.250000         8472.7     254181.0     11  \n",
       "164            0.714286         8472.7     254181.0     11  "
      ]
     },
     "execution_count": 91,
     "metadata": {},
     "output_type": "execute_result"
    }
   ],
   "source": [
    "merged_df.tail()"
   ]
  },
  {
   "cell_type": "markdown",
   "metadata": {},
   "source": [
    "## Analysis"
   ]
  },
  {
   "cell_type": "markdown",
   "metadata": {},
   "source": [
    "We can take many different approaches to test this hypothesis. \n",
    "\n",
    "Let's first start with the question: \n",
    "\n",
    "### In what month has each account tweeted about COVID the most?"
   ]
  },
  {
   "cell_type": "code",
   "execution_count": 14,
   "metadata": {},
   "outputs": [],
   "source": [
    "total_list_of_accounts = [\n",
    "    \"CUBoulder\",\n",
    "    \"CUMarkKennedy\",\n",
    "    \"CUBoulderPolice\",\n",
    "    \"CUBuffs\",\n",
    "    \"CUBoulderLife\",\n",
    "    \"bouldercounty\",\n",
    "    \"bouldercohealth\",\n",
    "    \"bouldernews\",\n",
    "    \"bldrCOSheriff\",\n",
    "    \"BoulderCh1News\",\n",
    "    \"BoulderChamber\",\n",
    "    \"downtownboulder\",\n",
    "    \"boulderparksrec\",\n",
    "    \"ColoradoStateU\",\n",
    "    \"GovofCO\"\n",
    "]\n",
    "\n",
    "\n",
    "list_of_users_dictionaries = []\n",
    "\n",
    "for account in total_list_of_accounts:\n",
    "    dictionary = {}\n",
    "    users_df = merged_df[merged_df[\"User\"]==account]\n",
    "    top = users_df.sort_values(\"Mentions Per Tweet\",ascending=False).head(3)\n",
    "    list_of_values = []\n",
    "    for value in top[\"Month\"]:\n",
    "        list_of_values.append(value)\n",
    "    dictionary[\"User\"] = account\n",
    "    dictionary[\"Top Month\"] = list_of_values[0]\n",
    "    list_of_users_dictionaries.append(dictionary)\n",
    "    \n",
    "top_months = pd.DataFrame(list_of_users_dictionaries)"
   ]
  },
  {
   "cell_type": "code",
   "execution_count": 15,
   "metadata": {},
   "outputs": [
    {
     "data": {
      "image/png": "[encoded data removed]",
      "text/plain": [
       "<Figure size 432x288 with 1 Axes>"
      ]
     },
     "metadata": {
      "needs_background": "light"
     },
     "output_type": "display_data"
    }
   ],
   "source": [
    "ax = sb.countplot(x=\"Top Month\",data=top_months)"
   ]
  },
  {
   "cell_type": "markdown",
   "metadata": {},
   "source": [
    "It appears that among all of our 15 twitter accounts analyzed, 6 of them tweeted the most about COVID in March. This is the most in a month by far, with April, May, and November tieing for second with 2 accounts each."
   ]
  },
  {
   "cell_type": "markdown",
   "metadata": {},
   "source": [
    "### How has each accounts' COVID mentions changed over time?"
   ]
  },
  {
   "cell_type": "code",
   "execution_count": 16,
   "metadata": {},
   "outputs": [],
   "source": [
    "covid_mentions_pivot = pd.pivot_table(merged_df,\n",
    "                                      index=\"User\",\n",
    "                                      columns=\"Month\",\n",
    "                                      values=\"Mentions Per Tweet\"\n",
    "                                     )\n",
    "\n",
    "\n",
    "covid_mentions_pivot.columns = ['Jan','Feb','Mar','Apr','May','Jun','Jul',\"Aug\",\"Sep\",\"Oct\",\"Nov\"]"
   ]
  },
  {
   "cell_type": "code",
   "execution_count": 105,
   "metadata": {},
   "outputs": [
    {
     "data": {
      "text/plain": [
       "Text(0.5, 1.0, 'Percentage of COVID Mentions Per Account Over Time')"
      ]
     },
     "execution_count": 105,
     "metadata": {},
     "output_type": "execute_result"
    },
    {
     "data": {
      "image/png": "[encoded data removed]",
      "text/plain": [
       "<Figure size 720x1080 with 2 Axes>"
      ]
     },
     "metadata": {
      "needs_background": "light"
     },
     "output_type": "display_data"
    }
   ],
   "source": [
    "f,ax = plt.subplots(figsize=(10,15))\n",
    "sb.heatmap(covid_mentions_pivot,ax=ax,annot=True,cmap=\"gist_heat\")\n",
    "ax.set_title(\"Percentage of COVID Mentions Per Account Over Time\",fontsize=15)"
   ]
  },
  {
   "cell_type": "markdown",
   "metadata": {},
   "source": [
    "To clarify, this heatmap is showing each accounts average COVID mentions per tweet, per month. For example, this means that in March @CUBoulder only had 14% of their tweets discussing COVID while @ColoradoStateU had 35% of their tweets in March discussing COVID. This shows us that CSU did a better job initially responding to the virus. However, CU did increase their mentions over time as the cases increased. \n",
    "\n",
    "Additionally, with this heatmap we see that most accounts have the highest percentage of tweets about COVID in March. We can see that @bouldercohealth has tweeted the most (and the most consistently) about COVID, which obviously is not surprising. "
   ]
  },
  {
   "cell_type": "markdown",
   "metadata": {},
   "source": [
    "### What is the average amount of tweets about COVID by month?"
   ]
  },
  {
   "cell_type": "code",
   "execution_count": 18,
   "metadata": {},
   "outputs": [
    {
     "data": {
      "text/html": [
       "<div>\n",
       "<style scoped>\n",
       "    .dataframe tbody tr th:only-of-type {\n",
       "        vertical-align: middle;\n",
       "    }\n",
       "\n",
       "    .dataframe tbody tr th {\n",
       "        vertical-align: top;\n",
       "    }\n",
       "\n",
       "    .dataframe thead th {\n",
       "        text-align: right;\n",
       "    }\n",
       "</style>\n",
       "<table border=\"1\" class=\"dataframe\">\n",
       "  <thead>\n",
       "    <tr style=\"text-align: right;\">\n",
       "      <th></th>\n",
       "      <th>Average Per Month</th>\n",
       "    </tr>\n",
       "  </thead>\n",
       "  <tbody>\n",
       "    <tr>\n",
       "      <th>Jan</th>\n",
       "      <td>0.087174</td>\n",
       "    </tr>\n",
       "    <tr>\n",
       "      <th>Feb</th>\n",
       "      <td>0.076765</td>\n",
       "    </tr>\n",
       "    <tr>\n",
       "      <th>Mar</th>\n",
       "      <td>0.340797</td>\n",
       "    </tr>\n",
       "    <tr>\n",
       "      <th>Apr</th>\n",
       "      <td>0.291841</td>\n",
       "    </tr>\n",
       "    <tr>\n",
       "      <th>May</th>\n",
       "      <td>0.242173</td>\n",
       "    </tr>\n",
       "    <tr>\n",
       "      <th>Jun</th>\n",
       "      <td>0.179721</td>\n",
       "    </tr>\n",
       "    <tr>\n",
       "      <th>Jul</th>\n",
       "      <td>0.202340</td>\n",
       "    </tr>\n",
       "    <tr>\n",
       "      <th>Aug</th>\n",
       "      <td>0.162017</td>\n",
       "    </tr>\n",
       "    <tr>\n",
       "      <th>Sep</th>\n",
       "      <td>0.212542</td>\n",
       "    </tr>\n",
       "    <tr>\n",
       "      <th>Oct</th>\n",
       "      <td>0.173860</td>\n",
       "    </tr>\n",
       "    <tr>\n",
       "      <th>Nov</th>\n",
       "      <td>0.206257</td>\n",
       "    </tr>\n",
       "  </tbody>\n",
       "</table>\n",
       "</div>"
      ],
      "text/plain": [
       "     Average Per Month\n",
       "Jan           0.087174\n",
       "Feb           0.076765\n",
       "Mar           0.340797\n",
       "Apr           0.291841\n",
       "May           0.242173\n",
       "Jun           0.179721\n",
       "Jul           0.202340\n",
       "Aug           0.162017\n",
       "Sep           0.212542\n",
       "Oct           0.173860\n",
       "Nov           0.206257"
      ]
     },
     "execution_count": 18,
     "metadata": {},
     "output_type": "execute_result"
    }
   ],
   "source": [
    "average_per_month = pd.DataFrame(covid_mentions_pivot.mean(axis=0))\n",
    "average_per_month.columns = [\"Average Per Month\"]\n",
    "average_per_month"
   ]
  },
  {
   "cell_type": "code",
   "execution_count": 19,
   "metadata": {},
   "outputs": [
    {
     "data": {
      "text/plain": [
       "<AxesSubplot:>"
      ]
     },
     "execution_count": 19,
     "metadata": {},
     "output_type": "execute_result"
    },
    {
     "data": {
      "image/png": "[encoded data removed]",
      "text/plain": [
       "<Figure size 432x288 with 1 Axes>"
      ]
     },
     "metadata": {
      "needs_background": "light"
     },
     "output_type": "display_data"
    }
   ],
   "source": [
    "average_per_month.plot()"
   ]
  },
  {
   "cell_type": "markdown",
   "metadata": {},
   "source": [
    "Here we see that across all 15 twitter accounts, March was by far had the highest percenatage of COVID tweets. Since March we have seen a solid decrease leading into the summer months and then slight upticks and downticks in the fall months."
   ]
  },
  {
   "cell_type": "markdown",
   "metadata": {},
   "source": [
    "### Correlations\n",
    "\n",
    "Let's look at the correlations between covid cases and number of COVID mentions from each Twitter account."
   ]
  },
  {
   "cell_type": "code",
   "execution_count": 50,
   "metadata": {},
   "outputs": [],
   "source": [
    "def get_correlations_for_accounts(list_of_accounts):\n",
    "    correlations_list = []\n",
    "    for account in list_of_accounts:\n",
    "        correlations = {}\n",
    "        _df = merged_df[merged_df[\"User\"]==account]\n",
    "        correlations[account] = _df[\"Mentions Per Tweet\"].corr(_df[\"Average Cases\"])\n",
    "        correlations_list.append(correlations)\n",
    "    return(correlations_list)"
   ]
  },
  {
   "cell_type": "code",
   "execution_count": 61,
   "metadata": {},
   "outputs": [],
   "source": [
    "correlations_df = pd.DataFrame.from_dict(correlations_list)\n"
   ]
  },
  {
   "cell_type": "code",
   "execution_count": 62,
   "metadata": {},
   "outputs": [],
   "source": [
    "correlations_df = correlations_df.melt()\n",
    "correlations_df.columns = [\"User\",\"Correlation\"]\n",
    "correlations_df.dropna(inplace=True)"
   ]
  },
  {
   "cell_type": "code",
   "execution_count": 63,
   "metadata": {},
   "outputs": [],
   "source": [
    "correlations_df.reset_index(inplace=True)"
   ]
  },
  {
   "cell_type": "code",
   "execution_count": 84,
   "metadata": {},
   "outputs": [
    {
     "name": "stdout",
     "output_type": "stream",
     "text": [
      "There are 7 accounts of the 15 studied whose amount of monthly COVID mentions on Twitter are NEGATIVELY correlated with COVID cases.\n"
     ]
    }
   ],
   "source": [
    "less_than_zero = len(correlations_df[correlations_df[\"Correlation\"]<0])\n",
    "\n",
    "print(\"There are {} accounts of the 15 studied whose amount of monthly COVID mentions on Twitter are NEGATIVELY correlated with COVID cases.\".format(less_than_zero))"
   ]
  },
  {
   "cell_type": "code",
   "execution_count": 88,
   "metadata": {},
   "outputs": [
    {
     "name": "stdout",
     "output_type": "stream",
     "text": [
      "There are 8 accounts of the 15 studied whose amount of monthly COVID mentions on Twitter are POSITIVELY correlated with COVID cases.\n"
     ]
    }
   ],
   "source": [
    "more_than_zero = len(correlations_df[correlations_df[\"Correlation\"]>0])\n",
    "\n",
    "print(\"There are {} accounts of the 15 studied whose amount of monthly COVID mentions on Twitter are POSITIVELY correlated with COVID cases.\".format(more_than_zero))"
   ]
  },
  {
   "cell_type": "markdown",
   "metadata": {},
   "source": [
    "Suprisingly it seems that the twitter accounts are split between tweeting more about COVID as cases increase and less as cases increase.\n",
    "\n",
    "Are there any accounts with strong correlations?"
   ]
  },
  {
   "cell_type": "code",
   "execution_count": 75,
   "metadata": {
    "scrolled": true
   },
   "outputs": [
    {
     "data": {
      "text/html": [
       "<div>\n",
       "<style scoped>\n",
       "    .dataframe tbody tr th:only-of-type {\n",
       "        vertical-align: middle;\n",
       "    }\n",
       "\n",
       "    .dataframe tbody tr th {\n",
       "        vertical-align: top;\n",
       "    }\n",
       "\n",
       "    .dataframe thead th {\n",
       "        text-align: right;\n",
       "    }\n",
       "</style>\n",
       "<table border=\"1\" class=\"dataframe\">\n",
       "  <thead>\n",
       "    <tr style=\"text-align: right;\">\n",
       "      <th></th>\n",
       "      <th>User</th>\n",
       "      <th>Correlation</th>\n",
       "    </tr>\n",
       "  </thead>\n",
       "  <tbody>\n",
       "    <tr>\n",
       "      <th>0</th>\n",
       "      <td>CUBoulder</td>\n",
       "      <td>0.537932</td>\n",
       "    </tr>\n",
       "    <tr>\n",
       "      <th>3</th>\n",
       "      <td>CUBuffs</td>\n",
       "      <td>0.346185</td>\n",
       "    </tr>\n",
       "    <tr>\n",
       "      <th>13</th>\n",
       "      <td>ColoradoStateU</td>\n",
       "      <td>0.336116</td>\n",
       "    </tr>\n",
       "    <tr>\n",
       "      <th>4</th>\n",
       "      <td>CUBoulderLife</td>\n",
       "      <td>0.316295</td>\n",
       "    </tr>\n",
       "    <tr>\n",
       "      <th>11</th>\n",
       "      <td>downtownboulder</td>\n",
       "      <td>0.304579</td>\n",
       "    </tr>\n",
       "  </tbody>\n",
       "</table>\n",
       "</div>"
      ],
      "text/plain": [
       "               User  Correlation\n",
       "0         CUBoulder     0.537932\n",
       "3           CUBuffs     0.346185\n",
       "13   ColoradoStateU     0.336116\n",
       "4     CUBoulderLife     0.316295\n",
       "11  downtownboulder     0.304579"
      ]
     },
     "execution_count": 75,
     "metadata": {},
     "output_type": "execute_result"
    }
   ],
   "source": [
    "correlations_df.sort_values(\"Correlation\",ascending=False).head(5)[[\"User\",\"Correlation\"]]"
   ]
  },
  {
   "cell_type": "markdown",
   "metadata": {},
   "source": [
    "These are twitter accounts who have tweeted more about COVID as cases have increased. \n",
    "\n",
    "At number one is @CUBoulder with a moderately strong correlation of 0.54. This makes sense because CU has begun pushing heavy safety guidelines as students have returned to school in the fall and as Boulder has seen an increase in cases. \n",
    "\n",
    "In my opinion this makes CU look responsible because they are rising to the challenge and concern of the spike in COVID case numbers. While obviously these are merely tweets, as an influential voice like @CUBoulder, it is better to get the word out and encourage safe behavior than to not."
   ]
  },
  {
   "cell_type": "code",
   "execution_count": 76,
   "metadata": {
    "scrolled": true
   },
   "outputs": [
    {
     "data": {
      "text/html": [
       "<div>\n",
       "<style scoped>\n",
       "    .dataframe tbody tr th:only-of-type {\n",
       "        vertical-align: middle;\n",
       "    }\n",
       "\n",
       "    .dataframe tbody tr th {\n",
       "        vertical-align: top;\n",
       "    }\n",
       "\n",
       "    .dataframe thead th {\n",
       "        text-align: right;\n",
       "    }\n",
       "</style>\n",
       "<table border=\"1\" class=\"dataframe\">\n",
       "  <thead>\n",
       "    <tr style=\"text-align: right;\">\n",
       "      <th></th>\n",
       "      <th>User</th>\n",
       "      <th>Correlation</th>\n",
       "    </tr>\n",
       "  </thead>\n",
       "  <tbody>\n",
       "    <tr>\n",
       "      <th>2</th>\n",
       "      <td>CUBoulderPolice</td>\n",
       "      <td>-0.485481</td>\n",
       "    </tr>\n",
       "    <tr>\n",
       "      <th>8</th>\n",
       "      <td>bldrCOSheriff</td>\n",
       "      <td>-0.421276</td>\n",
       "    </tr>\n",
       "    <tr>\n",
       "      <th>12</th>\n",
       "      <td>boulderparksrec</td>\n",
       "      <td>-0.315880</td>\n",
       "    </tr>\n",
       "    <tr>\n",
       "      <th>1</th>\n",
       "      <td>CUMarkKennedy</td>\n",
       "      <td>-0.237522</td>\n",
       "    </tr>\n",
       "    <tr>\n",
       "      <th>9</th>\n",
       "      <td>BoulderCh1News</td>\n",
       "      <td>-0.215771</td>\n",
       "    </tr>\n",
       "  </tbody>\n",
       "</table>\n",
       "</div>"
      ],
      "text/plain": [
       "               User  Correlation\n",
       "2   CUBoulderPolice    -0.485481\n",
       "8     bldrCOSheriff    -0.421276\n",
       "12  boulderparksrec    -0.315880\n",
       "1     CUMarkKennedy    -0.237522\n",
       "9    BoulderCh1News    -0.215771"
      ]
     },
     "execution_count": 76,
     "metadata": {},
     "output_type": "execute_result"
    }
   ],
   "source": [
    "correlations_df.sort_values(\"Correlation\").head(5)[[\"User\",\"Correlation\"]]"
   ]
  },
  {
   "cell_type": "markdown",
   "metadata": {},
   "source": [
    "These are twitter accounts who may have tweeted about COVID a decent amount in March but as time has gone on (and cases have increased) they have tweeted about the virus less and less.\n",
    "\n",
    "The two leaders of this category are @CUBoulderPolice and @bldrCOSheriff which tells us that law enforcement is not focusing on COVID, instead going back to their regular tweeting habits.\n",
    "\n",
    "@CUMarkKennedy is in this list with a correlation of -0.24 which isn't super strong but this is surprising considering that @CUBoulder and @CUBuffs lead the list of most positively correlated accounts. "
   ]
  },
  {
   "cell_type": "markdown",
   "metadata": {},
   "source": [
    "### How does this data compare in relation to COVID-19 cases in Boulder County?"
   ]
  },
  {
   "cell_type": "code",
   "execution_count": 20,
   "metadata": {},
   "outputs": [],
   "source": [
    "grouped_df = merged_df.groupby(\"Month\").agg({\"Number of Covid Mentions\":sum,\n",
    "                                            \"Total Cases\":\"mean\"})"
   ]
  },
  {
   "cell_type": "code",
   "execution_count": 21,
   "metadata": {},
   "outputs": [],
   "source": [
    "# get rid of january and feburary\n",
    "grouped_df = grouped_df.tail(9)"
   ]
  },
  {
   "cell_type": "code",
   "execution_count": 22,
   "metadata": {},
   "outputs": [
    {
     "data": {
      "text/html": [
       "<div>\n",
       "<style scoped>\n",
       "    .dataframe tbody tr th:only-of-type {\n",
       "        vertical-align: middle;\n",
       "    }\n",
       "\n",
       "    .dataframe tbody tr th {\n",
       "        vertical-align: top;\n",
       "    }\n",
       "\n",
       "    .dataframe thead th {\n",
       "        text-align: right;\n",
       "    }\n",
       "</style>\n",
       "<table border=\"1\" class=\"dataframe\">\n",
       "  <thead>\n",
       "    <tr style=\"text-align: right;\">\n",
       "      <th></th>\n",
       "      <th>Number of Covid Mentions</th>\n",
       "      <th>Total Cases</th>\n",
       "      <th>Normed Covid Mentions</th>\n",
       "      <th>Normed Cases</th>\n",
       "    </tr>\n",
       "    <tr>\n",
       "      <th>Month</th>\n",
       "      <th></th>\n",
       "      <th></th>\n",
       "      <th></th>\n",
       "      <th></th>\n",
       "    </tr>\n",
       "  </thead>\n",
       "  <tbody>\n",
       "    <tr>\n",
       "      <th>3</th>\n",
       "      <td>495</td>\n",
       "      <td>771.0</td>\n",
       "      <td>1.000000</td>\n",
       "      <td>1.000000</td>\n",
       "    </tr>\n",
       "    <tr>\n",
       "      <th>4</th>\n",
       "      <td>318</td>\n",
       "      <td>9756.0</td>\n",
       "      <td>0.642424</td>\n",
       "      <td>12.653696</td>\n",
       "    </tr>\n",
       "    <tr>\n",
       "      <th>5</th>\n",
       "      <td>199</td>\n",
       "      <td>25586.0</td>\n",
       "      <td>0.402020</td>\n",
       "      <td>33.185473</td>\n",
       "    </tr>\n",
       "    <tr>\n",
       "      <th>6</th>\n",
       "      <td>142</td>\n",
       "      <td>34449.0</td>\n",
       "      <td>0.286869</td>\n",
       "      <td>44.680934</td>\n",
       "    </tr>\n",
       "    <tr>\n",
       "      <th>7</th>\n",
       "      <td>198</td>\n",
       "      <td>49712.0</td>\n",
       "      <td>0.400000</td>\n",
       "      <td>64.477302</td>\n",
       "    </tr>\n",
       "    <tr>\n",
       "      <th>8</th>\n",
       "      <td>245</td>\n",
       "      <td>65883.0</td>\n",
       "      <td>0.494949</td>\n",
       "      <td>85.451362</td>\n",
       "    </tr>\n",
       "    <tr>\n",
       "      <th>9</th>\n",
       "      <td>383</td>\n",
       "      <td>95681.0</td>\n",
       "      <td>0.773737</td>\n",
       "      <td>124.099870</td>\n",
       "    </tr>\n",
       "    <tr>\n",
       "      <th>10</th>\n",
       "      <td>319</td>\n",
       "      <td>155641.0</td>\n",
       "      <td>0.644444</td>\n",
       "      <td>201.869001</td>\n",
       "    </tr>\n",
       "    <tr>\n",
       "      <th>11</th>\n",
       "      <td>259</td>\n",
       "      <td>254181.0</td>\n",
       "      <td>0.523232</td>\n",
       "      <td>329.677043</td>\n",
       "    </tr>\n",
       "  </tbody>\n",
       "</table>\n",
       "</div>"
      ],
      "text/plain": [
       "       Number of Covid Mentions  Total Cases  Normed Covid Mentions  \\\n",
       "Month                                                                 \n",
       "3                           495        771.0               1.000000   \n",
       "4                           318       9756.0               0.642424   \n",
       "5                           199      25586.0               0.402020   \n",
       "6                           142      34449.0               0.286869   \n",
       "7                           198      49712.0               0.400000   \n",
       "8                           245      65883.0               0.494949   \n",
       "9                           383      95681.0               0.773737   \n",
       "10                          319     155641.0               0.644444   \n",
       "11                          259     254181.0               0.523232   \n",
       "\n",
       "       Normed Cases  \n",
       "Month                \n",
       "3          1.000000  \n",
       "4         12.653696  \n",
       "5         33.185473  \n",
       "6         44.680934  \n",
       "7         64.477302  \n",
       "8         85.451362  \n",
       "9        124.099870  \n",
       "10       201.869001  \n",
       "11       329.677043  "
      ]
     },
     "execution_count": 22,
     "metadata": {},
     "output_type": "execute_result"
    }
   ],
   "source": [
    "grouped_df[\"Normed Covid Mentions\"] = grouped_df[\"Number of Covid Mentions\"]/grouped_df.loc[3,\"Number of Covid Mentions\"]\n",
    "grouped_df[\"Normed Cases\"] = grouped_df[\"Total Cases\"]/grouped_df.loc[3,\"Total Cases\"]\n",
    "\n",
    "grouped_df"
   ]
  },
  {
   "cell_type": "code",
   "execution_count": 92,
   "metadata": {},
   "outputs": [
    {
     "data": {
      "text/plain": [
       "Text(0, 0.5, 'Percentage Increase from March')"
      ]
     },
     "execution_count": 92,
     "metadata": {},
     "output_type": "execute_result"
    },
    {
     "data": {
      "image/png": "[encoded data removed]",
      "text/plain": [
       "<Figure size 720x432 with 1 Axes>"
      ]
     },
     "metadata": {
      "needs_background": "light"
     },
     "output_type": "display_data"
    }
   ],
   "source": [
    "f, ax1 = plt.subplots(figsize=(10, 6))\n",
    "\n",
    "ax1.plot(grouped_df[\"Normed Covid Mentions\"])\n",
    "ax1.plot(grouped_df[\"Normed Cases\"],color=\"r\")\n",
    "\n",
    "plt.title('Normalized COVID Cases vs Normalized COVID Twitter Mentions')\n",
    "plt.xlabel('Months')\n",
    "plt.ylabel('Percentage Increase from March')\n"
   ]
  },
  {
   "cell_type": "markdown",
   "metadata": {},
   "source": [
    "Even after normalizing our data this is how our graph turns out. This shows how massively cases have increased since March while mentions of COVID have not increased. This tells us that COVID cases have increased by over 300 percent since March while COVID mentions on Twitter have barely changed. \n",
    "\n",
    "Since this graph is more for shock factor of how much cases have increased and not for comparing the two variables. In the next graph we will add a secondary y-axis to better see how these variables relate."
   ]
  },
  {
   "cell_type": "code",
   "execution_count": 102,
   "metadata": {},
   "outputs": [
    {
     "data": {
      "text/plain": [
       "Text(0, 0.5, 'Total COVID cases in Boulder County')"
      ]
     },
     "execution_count": 102,
     "metadata": {},
     "output_type": "execute_result"
    },
    {
     "data": {
      "image/png": "[encoded data removed]",
      "text/plain": [
       "<Figure size 864x576 with 2 Axes>"
      ]
     },
     "metadata": {
      "needs_background": "light"
     },
     "output_type": "display_data"
    }
   ],
   "source": [
    "f, ax1 = plt.subplots(figsize=(12, 8))\n",
    "plt.title('Boulder: COVID Cases vs COVID Mentions',fontsize=15)\n",
    "plt.xlabel('Months',fontsize=13)\n",
    "plt.ylabel('Mentions per Month',fontsize=13)\n",
    "\n",
    "ax1.plot(grouped_df[\"Number of Covid Mentions\"])\n",
    "\n",
    "ax2 = ax1.twinx()\n",
    "ax2.plot(grouped_df[\"Total Cases\"],color=\"r\")\n",
    "\n",
    "plt.ylabel('Total COVID cases in Boulder County',fontsize=13)"
   ]
  },
  {
   "cell_type": "markdown",
   "metadata": {},
   "source": [
    "This is the most important graph of this entire project.\n",
    "\n",
    "Here we see in March that, relative to COVID cases, there was a massive amount of tweets regarding COVID from our CU Boulder and Boulder County leaders. Then as months went by our community leaders began to tweet less and less about the virus, reaching a low of only about 150 mentions in the month of June. \n",
    "\n",
    "In August and September our community leaders did an excellent job of responding to the increase in COVID cases with an increase of their tweets pushing for safe COVID guidelines. \n",
    "\n",
    "However, despite a massive spike of cases in October and November, our community leaders have dropped off in their tweeting about COVID.\n",
    "\n",
    "This graph tells us that in the months of March, July, August, and September there was a positive correlation between COVID cases and the amount that Boulder was tweeting about COVID.\n",
    "\n",
    "However, in the months of April, May, June, October, and November there was a negative correlation.\n",
    "\n",
    "One would have hoped for this graph to consist of the blue line following the red line and preferably the blue line being higher than the red line, implying that Boulder was tweeting more than the relative number of COVID cases as they did in March. \n"
   ]
  },
  {
   "cell_type": "markdown",
   "metadata": {},
   "source": [
    "**Why does this matter?**\n",
    "\n",
    "This matters because we need our Boulder County and CU Boulder leaders to provide a good example and promote COVID safety guidelines. Without this, our citizens are more likely to forget about the implications of the virus which in turn would lead to more positive cases and ultimately more deaths. \n",
    "\n",
    "While I understand that this only concerns raising awareness and pushing for safe habits and that tweets cannot stop the virus, I think at the end of the day we must do whatever we can to promote the safety of our community.\n"
   ]
  },
  {
   "cell_type": "markdown",
   "metadata": {},
   "source": [
    "## Limitations to our Data\n",
    "\n",
    "This data is limited by the fact that I calculated the \"COVID Mentions\" score by creating a word bank from my own mind of 25 COVID related words and checking to see how often a word from the word bank appears in the tweets. This means we do not have 100% accurate data which would occur if I manually went through every one of the tens of thousands of tweets and determined how many times a COVID related word was mentioned. But even then there would be discussion and arguments over what constitutes a COVID related word. Therefore, this data would probably be slightly different based on how one decided to calculate the \"COVID mentions\" score. \n",
    "\n",
    "Additionally, I would assume that our \"COVID Mentions\" data is most likely less than the actual number of times COVID was mentioned in the tweets becuase there are some words I did not take account for as well as tweets that implicitly mention COVID that our algorithm did not detect."
   ]
  },
  {
   "cell_type": "markdown",
   "metadata": {},
   "source": [
    "# Conclusion"
   ]
  },
  {
   "cell_type": "markdown",
   "metadata": {},
   "source": [
    "Ultimately I cannot either support or refute my hypothesis that COVID cases and the number of tweets about COVID were negatively correlated. This is because there were several months where this was true and several months where it was not. Along with several accounts to whom this was true and several to whom it wasn't.\n",
    "\n",
    "If I was just looking at @CUBoulder then I would reject my hypothesis because @CUBoulder clearly had a postive correlation. However, I was looking at many of the Boulder community leaders, not just one.\n",
    "\n",
    "In the end it was clear that March had the highest amounts of COVID tweets. However, this was not surprising due to the panic of the virus that nobody knew much about. From a psychological standpoint it makes sense that we never returned to this level because as the mystery and the freshness of the virus faded, so did many people's attention from it. This viewpoint is what sparked my interest in the topic and the determination of my hypothesis. However, from a strict health standpoint one would hope that people's \n",
    "\n",
    "Overall I would say that I am proud of how the Boulder community has responded to spikes in cases and realize that this level of tweeting about COVID is much higher than most other places in America most likely but would have to do further analysis to prove that."
   ]
  }
 ],
 "metadata": {
  "kernelspec": {
   "display_name": "Python 3",
   "language": "python",
   "name": "python3"
  },
  "language_info": {
   "codemirror_mode": {
    "name": "ipython",
    "version": 3
   },
   "file_extension": ".py",
   "mimetype": "text/x-python",
   "name": "python",
   "nbconvert_exporter": "python",
   "pygments_lexer": "ipython3",
   "version": "3.7.7"
  }
 },
 "nbformat": 4,
 "nbformat_minor": 4
}
